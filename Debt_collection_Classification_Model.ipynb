{
 "cells": [
  {
   "cell_type": "code",
   "execution_count": 22,
   "metadata": {},
   "outputs": [
    {
     "name": "stdout",
     "output_type": "stream",
     "text": [
      "Connected to MySQL successfully!\n"
     ]
    }
   ],
   "source": [
    "import pymysql\n",
    "\n",
    "host = \"localhost\"\n",
    "user = \"root\"\n",
    "password = \"Shelby$1\"\n",
    "database = \"Debt_Collection\"\n",
    "\n",
    "# Establish connection\n",
    "conn = pymysql.connect(host=host, user=user, password=password, database=database)\n",
    "print(\"Connected to MySQL successfully!\")\n"
   ]
  },
  {
   "cell_type": "code",
   "execution_count": 23,
   "metadata": {},
   "outputs": [],
   "source": [
    "import pandas as pd"
   ]
  },
  {
   "cell_type": "code",
   "execution_count": 24,
   "metadata": {},
   "outputs": [
    {
     "name": "stdout",
     "output_type": "stream",
     "text": [
      "   attempt_id  debtor_id  collector_id attempt_date          outcome\n",
      "0           1        273            22   2023-07-12          Success\n",
      "1           2        220            20   2023-10-15          Success\n",
      "2           3        283            41   2023-07-14          Failure\n",
      "3           4        193            23   2023-08-07  Partial Payment\n",
      "4           5         72            25   2023-08-11  Partial Payment\n"
     ]
    },
    {
     "name": "stderr",
     "output_type": "stream",
     "text": [
      "C:\\Users\\Touseef Haider\\AppData\\Local\\Temp\\ipykernel_7180\\2190685244.py:2: UserWarning: pandas only supports SQLAlchemy connectable (engine/connection) or database string URI or sqlite3 DBAPI2 connection. Other DBAPI2 objects are not tested. Please consider using SQLAlchemy.\n",
      "  df = pd.read_sql(query, conn)\n"
     ]
    }
   ],
   "source": [
    "query = \"Select * from collection_attempts; \"\n",
    "df = pd.read_sql(query, conn)\n",
    "\n",
    "conn.close()\n",
    "\n",
    "print(df.head())"
   ]
  },
  {
   "cell_type": "code",
   "execution_count": 25,
   "metadata": {},
   "outputs": [
    {
     "name": "stdout",
     "output_type": "stream",
     "text": [
      "attempt_id      0\n",
      "debtor_id       0\n",
      "collector_id    0\n",
      "attempt_date    0\n",
      "outcome         0\n",
      "dtype: int64\n"
     ]
    },
    {
     "data": {
      "text/html": [
       "<div>\n",
       "<style scoped>\n",
       "    .dataframe tbody tr th:only-of-type {\n",
       "        vertical-align: middle;\n",
       "    }\n",
       "\n",
       "    .dataframe tbody tr th {\n",
       "        vertical-align: top;\n",
       "    }\n",
       "\n",
       "    .dataframe thead th {\n",
       "        text-align: right;\n",
       "    }\n",
       "</style>\n",
       "<table border=\"1\" class=\"dataframe\">\n",
       "  <thead>\n",
       "    <tr style=\"text-align: right;\">\n",
       "      <th></th>\n",
       "      <th>attempt_id</th>\n",
       "      <th>debtor_id</th>\n",
       "      <th>collector_id</th>\n",
       "      <th>attempt_date</th>\n",
       "      <th>outcome</th>\n",
       "    </tr>\n",
       "  </thead>\n",
       "  <tbody>\n",
       "    <tr>\n",
       "      <th>0</th>\n",
       "      <td>1</td>\n",
       "      <td>273</td>\n",
       "      <td>22</td>\n",
       "      <td>2023-07-12</td>\n",
       "      <td>Success</td>\n",
       "    </tr>\n",
       "    <tr>\n",
       "      <th>1</th>\n",
       "      <td>2</td>\n",
       "      <td>220</td>\n",
       "      <td>20</td>\n",
       "      <td>2023-10-15</td>\n",
       "      <td>Success</td>\n",
       "    </tr>\n",
       "    <tr>\n",
       "      <th>2</th>\n",
       "      <td>3</td>\n",
       "      <td>283</td>\n",
       "      <td>41</td>\n",
       "      <td>2023-07-14</td>\n",
       "      <td>Failure</td>\n",
       "    </tr>\n",
       "    <tr>\n",
       "      <th>3</th>\n",
       "      <td>4</td>\n",
       "      <td>193</td>\n",
       "      <td>23</td>\n",
       "      <td>2023-08-07</td>\n",
       "      <td>Partial Payment</td>\n",
       "    </tr>\n",
       "    <tr>\n",
       "      <th>4</th>\n",
       "      <td>5</td>\n",
       "      <td>72</td>\n",
       "      <td>25</td>\n",
       "      <td>2023-08-11</td>\n",
       "      <td>Partial Payment</td>\n",
       "    </tr>\n",
       "    <tr>\n",
       "      <th>...</th>\n",
       "      <td>...</td>\n",
       "      <td>...</td>\n",
       "      <td>...</td>\n",
       "      <td>...</td>\n",
       "      <td>...</td>\n",
       "    </tr>\n",
       "    <tr>\n",
       "      <th>2995</th>\n",
       "      <td>2996</td>\n",
       "      <td>9</td>\n",
       "      <td>9</td>\n",
       "      <td>2023-07-27</td>\n",
       "      <td>No Response</td>\n",
       "    </tr>\n",
       "    <tr>\n",
       "      <th>2996</th>\n",
       "      <td>2997</td>\n",
       "      <td>167</td>\n",
       "      <td>13</td>\n",
       "      <td>2023-03-15</td>\n",
       "      <td>Failure</td>\n",
       "    </tr>\n",
       "    <tr>\n",
       "      <th>2997</th>\n",
       "      <td>2998</td>\n",
       "      <td>194</td>\n",
       "      <td>5</td>\n",
       "      <td>2023-11-13</td>\n",
       "      <td>No Response</td>\n",
       "    </tr>\n",
       "    <tr>\n",
       "      <th>2998</th>\n",
       "      <td>2999</td>\n",
       "      <td>436</td>\n",
       "      <td>21</td>\n",
       "      <td>2023-06-27</td>\n",
       "      <td>Partial Payment</td>\n",
       "    </tr>\n",
       "    <tr>\n",
       "      <th>2999</th>\n",
       "      <td>3000</td>\n",
       "      <td>419</td>\n",
       "      <td>48</td>\n",
       "      <td>2023-08-22</td>\n",
       "      <td>Partial Payment</td>\n",
       "    </tr>\n",
       "  </tbody>\n",
       "</table>\n",
       "<p>3000 rows × 5 columns</p>\n",
       "</div>"
      ],
      "text/plain": [
       "      attempt_id  debtor_id  collector_id attempt_date          outcome\n",
       "0              1        273            22   2023-07-12          Success\n",
       "1              2        220            20   2023-10-15          Success\n",
       "2              3        283            41   2023-07-14          Failure\n",
       "3              4        193            23   2023-08-07  Partial Payment\n",
       "4              5         72            25   2023-08-11  Partial Payment\n",
       "...          ...        ...           ...          ...              ...\n",
       "2995        2996          9             9   2023-07-27      No Response\n",
       "2996        2997        167            13   2023-03-15          Failure\n",
       "2997        2998        194             5   2023-11-13      No Response\n",
       "2998        2999        436            21   2023-06-27  Partial Payment\n",
       "2999        3000        419            48   2023-08-22  Partial Payment\n",
       "\n",
       "[3000 rows x 5 columns]"
      ]
     },
     "execution_count": 25,
     "metadata": {},
     "output_type": "execute_result"
    }
   ],
   "source": [
    "print(df.isnull().sum())\n",
    "df.dropna()"
   ]
  },
  {
   "cell_type": "code",
   "execution_count": 26,
   "metadata": {},
   "outputs": [],
   "source": [
    "from sklearn.preprocessing import LabelEncoder\n",
    "from sklearn.model_selection import train_test_split\n",
    "\n",
    "df = df.drop(columns=['attempt_id'])\n",
    "le = LabelEncoder()\n",
    "df['outcome'] = le.fit_transform(df['outcome']) \n",
    "df['attempt_date'] = pd.to_datetime(df['attempt_date'])\n"
   ]
  },
  {
   "cell_type": "code",
   "execution_count": 27,
   "metadata": {},
   "outputs": [
    {
     "name": "stdout",
     "output_type": "stream",
     "text": [
      "debtor_id                int64\n",
      "collector_id             int64\n",
      "attempt_date    datetime64[ns]\n",
      "outcome                  int64\n",
      "dtype: object\n",
      "   debtor_id  collector_id attempt_date  outcome\n",
      "0        273            22   2023-07-12        3\n",
      "1        220            20   2023-10-15        3\n",
      "2        283            41   2023-07-14        0\n",
      "3        193            23   2023-08-07        2\n",
      "4         72            25   2023-08-11        2\n"
     ]
    }
   ],
   "source": [
    "print(df.dtypes)\n",
    "print(df.head())"
   ]
  },
  {
   "cell_type": "code",
   "execution_count": 28,
   "metadata": {},
   "outputs": [
    {
     "name": "stdout",
     "output_type": "stream",
     "text": [
      "debtor_id       0\n",
      "collector_id    0\n",
      "attempt_date    0\n",
      "outcome         0\n",
      "dtype: int64\n"
     ]
    },
    {
     "name": "stderr",
     "output_type": "stream",
     "text": [
      "C:\\Users\\Touseef Haider\\AppData\\Local\\Temp\\ipykernel_7180\\1145514710.py:3: FutureWarning: A value is trying to be set on a copy of a DataFrame or Series through chained assignment using an inplace method.\n",
      "The behavior will change in pandas 3.0. This inplace method will never work because the intermediate object on which we are setting values always behaves as a copy.\n",
      "\n",
      "For example, when doing 'df[col].method(value, inplace=True)', try using 'df.method({col: value}, inplace=True)' or df[col] = df[col].method(value) instead, to perform the operation inplace on the original object.\n",
      "\n",
      "\n",
      "  df['outcome'].fillna('Unknown', inplace=True)\n"
     ]
    }
   ],
   "source": [
    "print(df.isnull().sum())  # Check missing values in each column\n",
    "df.dropna(inplace=True)\n",
    "df['outcome'].fillna('Unknown', inplace=True)"
   ]
  },
  {
   "cell_type": "code",
   "execution_count": 29,
   "metadata": {},
   "outputs": [],
   "source": [
    "from sklearn.preprocessing import LabelEncoder\n",
    "\n",
    "le = LabelEncoder()\n",
    "df['outcome'] = le.fit_transform(df['outcome'])  # Convert categorical values to numbers"
   ]
  },
  {
   "cell_type": "code",
   "execution_count": 30,
   "metadata": {},
   "outputs": [
    {
     "name": "stdout",
     "output_type": "stream",
     "text": [
      "[3 0 2 1]\n"
     ]
    }
   ],
   "source": [
    "print(df['outcome'].unique())  # Check assigned numerical values\n"
   ]
  },
  {
   "cell_type": "code",
   "execution_count": 31,
   "metadata": {},
   "outputs": [],
   "source": [
    "X = df.drop(columns=['outcome'])  # Features\n",
    "y = df['outcome']  # Target"
   ]
  },
  {
   "cell_type": "code",
   "execution_count": 32,
   "metadata": {},
   "outputs": [],
   "source": [
    "X['attempt_date'] = pd.to_datetime(X['attempt_date'])  # Convert to datetime\n",
    "X['attempt_month'] = X['attempt_date'].dt.month  # Extract month\n",
    "X['attempt_day'] = X['attempt_date'].dt.day  # Extract day\n",
    "X['attempt_weekday'] = X['attempt_date'].dt.weekday  # Extract weekday\n",
    "\n",
    "X = X.drop(columns=['attempt_date'])  # Drop original column after transformation\n"
   ]
  },
  {
   "cell_type": "code",
   "execution_count": 33,
   "metadata": {},
   "outputs": [
    {
     "name": "stdout",
     "output_type": "stream",
     "text": [
      "Training set size: 2400 rows\n",
      "Testing set size: 600 rows\n"
     ]
    }
   ],
   "source": [
    "from sklearn.model_selection import train_test_split\n",
    "\n",
    "X_train, X_test, y_train, y_test = train_test_split(X, y, test_size=0.2, random_state=42)\n",
    "\n",
    "print(f\"Training set size: {X_train.shape[0]} rows\")\n",
    "print(f\"Testing set size: {X_test.shape[0]} rows\")\n"
   ]
  },
  {
   "cell_type": "code",
   "execution_count": 34,
   "metadata": {},
   "outputs": [
    {
     "name": "stdout",
     "output_type": "stream",
     "text": [
      "Model training complete! ✅\n"
     ]
    }
   ],
   "source": [
    "from sklearn.ensemble import RandomForestClassifier\n",
    "\n",
    "# Initialize the model\n",
    "model = RandomForestClassifier(n_estimators=100, random_state=42)\n",
    "\n",
    "# Train the model\n",
    "model.fit(X_train, y_train)\n",
    "\n",
    "print(\"Model training complete! ✅\")\n"
   ]
  },
  {
   "cell_type": "code",
   "execution_count": 35,
   "metadata": {},
   "outputs": [
    {
     "data": {
      "image/png": "[encoded data removed]",
      "text/plain": [
       "<Figure size 800x500 with 1 Axes>"
      ]
     },
     "metadata": {},
     "output_type": "display_data"
    }
   ],
   "source": [
    "import matplotlib.pyplot as plt\n",
    "import seaborn as sns\n",
    "\n",
    "# Get feature importance\n",
    "feature_importance = model.feature_importances_\n",
    "\n",
    "# Plot importance\n",
    "plt.figure(figsize=(8, 5))\n",
    "sns.barplot(x=feature_importance, y=X.columns)\n",
    "plt.xlabel(\"Feature Importance Score\")\n",
    "plt.ylabel(\"Features\")\n",
    "plt.title(\"Feature Importance in Model\")\n",
    "plt.show()"
   ]
  },
  {
   "cell_type": "code",
   "execution_count": 36,
   "metadata": {},
   "outputs": [],
   "source": [
    "# Predict on test data\n",
    "y_pred = model.predict(X_test)"
   ]
  },
  {
   "cell_type": "code",
   "execution_count": 37,
   "metadata": {},
   "outputs": [
    {
     "name": "stdout",
     "output_type": "stream",
     "text": [
      "Model Accuracy: 0.26\n"
     ]
    }
   ],
   "source": [
    "from sklearn.metrics import accuracy_score\n",
    "\n",
    "# Calculate accuracy\n",
    "accuracy = accuracy_score(y_test, y_pred)\n",
    "print(f\"Model Accuracy: {accuracy:.2f}\")"
   ]
  },
  {
   "cell_type": "code",
   "execution_count": 38,
   "metadata": {},
   "outputs": [
    {
     "data": {
      "image/png": "[encoded data removed]",
      "text/plain": [
       "<Figure size 600x400 with 2 Axes>"
      ]
     },
     "metadata": {},
     "output_type": "display_data"
    }
   ],
   "source": [
    "from sklearn.metrics import confusion_matrix\n",
    "import seaborn as sns\n",
    "import matplotlib.pyplot as plt\n",
    "\n",
    "# Create the confusion matrix\n",
    "cm = confusion_matrix(y_test, y_pred)\n",
    "\n",
    "# Plot it\n",
    "plt.figure(figsize=(6, 4))\n",
    "sns.heatmap(cm, annot=True, fmt=\"d\", cmap=\"Blues\", xticklabels=model.classes_, yticklabels=model.classes_)\n",
    "plt.xlabel(\"Predicted Label\")\n",
    "plt.ylabel(\"True Label\")\n",
    "plt.title(\"Confusion Matrix\")\n",
    "plt.show()"
   ]
  },
  {
   "cell_type": "code",
   "execution_count": 39,
   "metadata": {},
   "outputs": [
    {
     "name": "stderr",
     "output_type": "stream",
     "text": [
      "C:\\Users\\Touseef Haider\\AppData\\Local\\Temp\\ipykernel_7180\\1135097865.py:6: FutureWarning: \n",
      "\n",
      "Passing `palette` without assigning `hue` is deprecated and will be removed in v0.14.0. Assign the `x` variable to `hue` and set `legend=False` for the same effect.\n",
      "\n",
      "  sns.countplot(x=y_train, palette=\"Blues\")\n"
     ]
    },
    {
     "data": {
      "image/png": "[encoded data removed]",
      "text/plain": [
       "<Figure size 600x400 with 1 Axes>"
      ]
     },
     "metadata": {},
     "output_type": "display_data"
    }
   ],
   "source": [
    "import seaborn as sns\n",
    "import matplotlib.pyplot as plt\n",
    "\n",
    "# Plot class distribution\n",
    "plt.figure(figsize=(6,4))\n",
    "sns.countplot(x=y_train, palette=\"Blues\")\n",
    "plt.xlabel(\"Class Labels\")\n",
    "plt.ylabel(\"Count\")\n",
    "plt.title(\"Class Distribution in Training Data\")\n",
    "plt.show()\n"
   ]
  },
  {
   "cell_type": "code",
   "execution_count": 40,
   "metadata": {},
   "outputs": [
    {
     "data": {
      "text/plain": [
       "<Axes: xlabel='outcome', ylabel='count'>"
      ]
     },
     "execution_count": 40,
     "metadata": {},
     "output_type": "execute_result"
    },
    {
     "data": {
      "image/png": "[encoded data removed]",
      "text/plain": [
       "<Figure size 640x480 with 1 Axes>"
      ]
     },
     "metadata": {},
     "output_type": "display_data"
    }
   ],
   "source": [
    "sns.countplot(x=y_train, hue=y_train, palette=\"Blues\", legend=False)\n"
   ]
  },
  {
   "cell_type": "code",
   "execution_count": 41,
   "metadata": {},
   "outputs": [
    {
     "name": "stderr",
     "output_type": "stream",
     "text": [
      "C:\\Users\\Touseef Haider\\AppData\\Local\\Temp\\ipykernel_7180\\3348063868.py:1: FutureWarning: \n",
      "\n",
      "Passing `palette` without assigning `hue` is deprecated and will be removed in v0.14.0. Assign the `x` variable to `hue` and set `legend=False` for the same effect.\n",
      "\n",
      "  sns.countplot(x=y_train, palette=\"Blues\", edgecolor=\"black\")\n"
     ]
    },
    {
     "data": {
      "text/plain": [
       "<Axes: xlabel='outcome', ylabel='count'>"
      ]
     },
     "execution_count": 41,
     "metadata": {},
     "output_type": "execute_result"
    },
    {
     "data": {
      "image/png": "[encoded data removed]",
      "text/plain": [
       "<Figure size 640x480 with 1 Axes>"
      ]
     },
     "metadata": {},
     "output_type": "display_data"
    }
   ],
   "source": [
    "sns.countplot(x=y_train, palette=\"Blues\", edgecolor=\"black\")\n"
   ]
  }
 ],
 "metadata": {
  "kernelspec": {
   "display_name": "Python 3",
   "language": "python",
   "name": "python3"
  },
  "language_info": {
   "codemirror_mode": {
    "name": "ipython",
    "version": 3
   },
   "file_extension": ".py",
   "mimetype": "text/x-python",
   "name": "python",
   "nbconvert_exporter": "python",
   "pygments_lexer": "ipython3",
   "version": "3.13.1"
  }
 },
 "nbformat": 4,
 "nbformat_minor": 2
}
